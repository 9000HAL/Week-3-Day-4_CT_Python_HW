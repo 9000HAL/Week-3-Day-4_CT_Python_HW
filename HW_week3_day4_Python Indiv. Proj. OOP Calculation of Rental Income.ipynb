{
 "cells": [
  {
   "cell_type": "markdown",
   "metadata": {},
   "source": [
    "Python Individual Project - OOP Calculation of Rental Income\n",
    "\n",
    "\n",
    "Here we assume that we have a client coming to us asking for an automated Rental Property Calculator.\n",
    "\n",
    "Our client's name is Brandon from a company called \"Bigger Pockets\". \n",
    "\n",
    "Below, you will find a video of what Brandon usually does to calculate his Rental Property ROI.\n",
    "\n",
    "Using Visual Studio Code/Jupyter Notebook, and Object Oriented Programming create a program that will calculate the Return on Investment(ROI) for a rental property.\n",
    "\n",
    "This project will be completed individually, though you can feel free to share ideas with your fellow students.\n",
    "\n",
    "Once completed, commit the project to github and submit the link to this assignment."
   ]
  },
  {
   "cell_type": "code",
   "execution_count": 7,
   "metadata": {},
   "outputs": [
    {
     "name": "stdout",
     "output_type": "stream",
     "text": [
      "The Return on Investment (ROI) for the Bigger Pockets rental property is: 4.0%. Let's Go Brandon!\n"
     ]
    }
   ],
   "source": [
    "# Rental Property class, use __init__ take in parameters, .self\n",
    "class RentalProperty:\n",
    "    def __init__(self, purchase_price, monthly_rent, operating_expenses):\n",
    "        self.purchase_price = purchase_price\n",
    "        self.monthly_rent = monthly_rent\n",
    "        self.operating_expenses = operating_expenses\n",
    "    \n",
    "    def calculate_roi(self):\n",
    "        annual_rent = self.monthly_rent * 12\n",
    "        net_income = annual_rent - self.operating_expenses\n",
    "        roi = (net_income / self.purchase_price) * 100\n",
    "        roi = round(roi, 2)  # Rounding the ROI to two decimal places\n",
    "        return roi\n",
    "\n",
    "# Create instance of RentalProperty class\n",
    "property1 = RentalProperty(200000, 1500, 10000)\n",
    "\n",
    "# Calculate ROI for the property\n",
    "roi = property1.calculate_roi()\n",
    "\n",
    "# Print the calculated ROI\n",
    "print(f\"The Return on Investment (ROI) for the Bigger Pockets rental property is: {roi}%. Let's Go Brandon!\")\n"
   ]
  }
 ],
 "metadata": {
  "kernelspec": {
   "display_name": "Python 3.10.10 64-bit",
   "language": "python",
   "name": "python3"
  },
  "language_info": {
   "codemirror_mode": {
    "name": "ipython",
    "version": 3
   },
   "file_extension": ".py",
   "mimetype": "text/x-python",
   "name": "python",
   "nbconvert_exporter": "python",
   "pygments_lexer": "ipython3",
   "version": "3.10.10"
  },
  "vscode": {
   "interpreter": {
    "hash": "aee8b7b246df8f9039afb4144a1f6fd8d2ca17a180786b69acc140d282b71a49"
   }
  }
 },
 "nbformat": 4,
 "nbformat_minor": 2
}
